{
  "nbformat": 4,
  "nbformat_minor": 0,
  "metadata": {
    "colab": {
      "provenance": [],
      "authorship_tag": "ABX9TyPRPuyQ5yWRJkySzuHSvW0n",
      "include_colab_link": true
    },
    "kernelspec": {
      "name": "python3",
      "display_name": "Python 3"
    },
    "language_info": {
      "name": "python"
    },
    "gpuClass": "standard"
  },
  "cells": [
    {
      "cell_type": "markdown",
      "metadata": {
        "id": "view-in-github",
        "colab_type": "text"
      },
      "source": [
        "<a href=\"https://colab.research.google.com/github/IraPavlenko/New-Story/blob/master/Python_text.ipynb\" target=\"_parent\"><img src=\"https://colab.research.google.com/assets/colab-badge.svg\" alt=\"Open In Colab\"/></a>"
      ]
    },
    {
      "cell_type": "markdown",
      "source": [
        "Create a string made of the second, third, and fourth character\n",
        "str = ' language' \n"
      ],
      "metadata": {
        "id": "VRWMrqFtGWp_"
      }
    },
    {
      "cell_type": "code",
      "source": [
        "str = \"language\"\n",
        "str1 = str[1] + str[2] + str[3]\n",
        "print(str1)"
      ],
      "metadata": {
        "colab": {
          "base_uri": "https://localhost:8080/"
        },
        "id": "Wf2qdJCIGcHf",
        "outputId": "ba1f9263-a02b-4fcc-9fa3-54ab4ae9ebc6"
      },
      "execution_count": 2,
      "outputs": [
        {
          "output_type": "stream",
          "name": "stdout",
          "text": [
            "ang\n"
          ]
        }
      ]
    },
    {
      "cell_type": "markdown",
      "source": [
        "Create a new string made of the first three characters of each input string\n",
        "str_1 = 'python'\n",
        "str_2 = 'libraries'\n"
      ],
      "metadata": {
        "id": "P8I6ML2SJOor"
      }
    },
    {
      "cell_type": "code",
      "source": [
        " str_1 = \"python\" \n",
        " str_2 = \"libraries\"\n",
        " str_3 =  str_1[0:3] + str_2[0:3]\n",
        " print(str_3)"
      ],
      "metadata": {
        "colab": {
          "base_uri": "https://localhost:8080/"
        },
        "id": "498Pr7CVJP-h",
        "outputId": "0bab1108-91c8-494f-90d0-4d9c11066e3d"
      },
      "execution_count": 5,
      "outputs": [
        {
          "output_type": "stream",
          "name": "stdout",
          "text": [
            "pytlib\n"
          ]
        }
      ]
    },
    {
      "cell_type": "markdown",
      "source": [
        "Remove special symbols/punctuation from a string\n",
        "str = %welcome' to @nlp@course<s!!\n"
      ],
      "metadata": {
        "id": "nqJkHdY5J-Jh"
      }
    },
    {
      "cell_type": "code",
      "source": [
        "str = \"%welcome' to @nlp@course<s!!\"\n",
        "new = str.replace(\"@\", \" \")\n",
        "new1 = new.translate({ord(i): None for i in \"%'<!!\"})\n",
        "print(new1)\n"
      ],
      "metadata": {
        "colab": {
          "base_uri": "https://localhost:8080/"
        },
        "id": "K8L8AqzwJSUd",
        "outputId": "3ac7230c-56b9-44d2-e850-3668d2043ba0"
      },
      "execution_count": 37,
      "outputs": [
        {
          "output_type": "stream",
          "name": "stdout",
          "text": [
            "welcome to  nlp courses\n"
          ]
        }
      ]
    },
    {
      "cell_type": "markdown",
      "source": [
        "Arrange string characters such that lowercase letters should come first\n",
        "str = 'pRocESSinG'\n"
      ],
      "metadata": {
        "id": "0evPUIKVPN33"
      }
    },
    {
      "cell_type": "code",
      "source": [
        "str = \"pRocESSinG\"\n",
        "str1 = str[0] + str[2:4] + str[7:9] + str[1] +str[4:7] + str[9]\n",
        "print(str1)"
      ],
      "metadata": {
        "colab": {
          "base_uri": "https://localhost:8080/"
        },
        "id": "zh271WFsPQJA",
        "outputId": "f3d34e8b-ca7b-4983-a3f4-ac09f82f0ee3"
      },
      "execution_count": 36,
      "outputs": [
        {
          "output_type": "stream",
          "name": "stdout",
          "text": [
            "pocinRESSG\n"
          ]
        }
      ]
    },
    {
      "cell_type": "markdown",
      "source": [
        "Removal all characters from a string except integers\n",
        "str = 'natural language 1 proce55ing 10'"
      ],
      "metadata": {
        "id": "l8ICOYPnRsjl"
      }
    },
    {
      "cell_type": "code",
      "source": [
        " str = \"natural language 1 proce55ing 10\"\n",
        " new = str.translate({ord(i): None for i in \"natural language proceing\"})\n",
        " print(new)"
      ],
      "metadata": {
        "colab": {
          "base_uri": "https://localhost:8080/"
        },
        "id": "86-KlMZZRtRr",
        "outputId": "7769552e-3cac-42ac-d934-1d20a6fc1d77"
      },
      "execution_count": 34,
      "outputs": [
        {
          "output_type": "stream",
          "name": "stdout",
          "text": [
            "15510\n"
          ]
        }
      ]
    },
    {
      "cell_type": "markdown",
      "source": [
        "Replace each special symbol with # in the following string:\n",
        "str = 'natural ! language @ processing & understanding'\n"
      ],
      "metadata": {
        "id": "IGkmxlauSSbU"
      }
    },
    {
      "cell_type": "code",
      "source": [
        "str = \"natural ! language @ processing & understanding\"\n",
        "new = str.replace(\"!\", \"#\").replace(\"@\", \"#\").replace(\"&\", \"#\")\n",
        "print(new)"
      ],
      "metadata": {
        "colab": {
          "base_uri": "https://localhost:8080/"
        },
        "id": "9rzTOvAUSXZM",
        "outputId": "38646760-a616-4a60-9998-5d6293934c08"
      },
      "execution_count": 35,
      "outputs": [
        {
          "output_type": "stream",
          "name": "stdout",
          "text": [
            "natural # language # processing # understanding\n"
          ]
        }
      ]
    },
    {
      "cell_type": "markdown",
      "source": [
        "Remove empty strings from a list of strings:\n",
        "list = ['natural', 'language', ' ', 'processing', 'course']\n",
        "\n"
      ],
      "metadata": {
        "id": "1zfssLBFU4M9"
      }
    },
    {
      "cell_type": "code",
      "source": [
        "list = [\"natural\", \"language\", \" \", \"processing\", \"course\"]\n",
        "list.remove(\" \")\n",
        "print(list)"
      ],
      "metadata": {
        "colab": {
          "base_uri": "https://localhost:8080/"
        },
        "id": "7hgagTYxU5AL",
        "outputId": "686227d4-dba8-4098-f76f-a94f241ce632"
      },
      "execution_count": 1,
      "outputs": [
        {
          "output_type": "stream",
          "name": "stdout",
          "text": [
            "['natural', 'language', 'processing', 'course']\n"
          ]
        }
      ]
    },
    {
      "cell_type": "markdown",
      "source": [
        "Write a function to count occurrences of all characters within a string\n",
        " str = 'Rindfleischetikettierungsüberwachungsaufgabenübertragungsgesetz'"
      ],
      "metadata": {
        "id": "z9PsFYClc5n7"
      }
    },
    {
      "cell_type": "code",
      "source": [
        "def count_chars(str):\n",
        "    char_counts = {}\n",
        "    for char in str:\n",
        "        if char in char_counts:\n",
        "            char_counts[char] += 1\n",
        "        else:\n",
        "            char_counts[char] = 1\n",
        "    return char_counts\n",
        "str = \"Rindfleischetikettierungsüberwachungsaufgabenübertragungsgesetz\"\n",
        "char_counts = count_chars(str)\n",
        "print(char_counts)"
      ],
      "metadata": {
        "colab": {
          "base_uri": "https://localhost:8080/"
        },
        "id": "XU2aLAp7c8n_",
        "outputId": "a55c6bb2-39b2-4b77-e2c8-128ac88ffedf"
      },
      "execution_count": 4,
      "outputs": [
        {
          "output_type": "stream",
          "name": "stdout",
          "text": [
            "{'R': 1, 'i': 4, 'n': 5, 'd': 1, 'f': 2, 'l': 1, 'e': 9, 's': 5, 'c': 2, 'h': 2, 't': 5, 'k': 1, 'r': 4, 'u': 4, 'g': 6, 'ü': 2, 'b': 3, 'w': 1, 'a': 4, 'z': 1}\n"
          ]
        }
      ]
    },
    {
      "cell_type": "markdown",
      "source": [
        "Concatenate two lists in the correct order to get a sentence:\n",
        "list_1 = ['Hello', 'how', 'hometask']\n",
        "list_2 = ['students', 'is',  'your']\n"
      ],
      "metadata": {
        "id": "djTxElJw4PEl"
      }
    },
    {
      "cell_type": "code",
      "source": [
        "list_1 = [\"Hello\", \"how\", \"hometask\"]\n",
        "list_2 = [\"students\", \"is\", \"your\"]\n",
        "list_3 = list_1 + list_2\n",
        "print(f\"Before : {list_3}\") \n",
        "list_3[2] = 'is'\n",
        "list_3[3] = 'your'\n",
        "list_3[4] = 'students'\n",
        "list_3[5] = 'hometask'\n",
        "print (f\"After : {list_3}\")"
      ],
      "metadata": {
        "colab": {
          "base_uri": "https://localhost:8080/"
        },
        "id": "PXtGGdzt4Q2s",
        "outputId": "c3445f7d-c472-4c48-adf6-2c90de4386e4"
      },
      "execution_count": 12,
      "outputs": [
        {
          "output_type": "stream",
          "name": "stdout",
          "text": [
            "Before : ['Hello', 'how', 'hometask', 'students', 'is', 'your']\n",
            "After : ['Hello', 'how', 'is', 'your', 'students', 'hometask']\n"
          ]
        }
      ]
    },
    {
      "cell_type": "markdown",
      "source": [
        "Convert 2 lists into one dictionary:\n",
        "keys = ['New', 'Saint', 'San']\n",
        "values = ['York', Petersburg', 'Francisco']\n"
      ],
      "metadata": {
        "id": "Cjue2CDC1WVQ"
      }
    },
    {
      "cell_type": "code",
      "source": [
        "keys = ['New', 'Saint', 'San']\n",
        "values = ['York', 'Petersburg', 'Francisco']\n",
        "\n",
        "dict = {keys[i]: values[i] for i in range(len(values))}\n",
        "\n",
        "print(dict)\n"
      ],
      "metadata": {
        "colab": {
          "base_uri": "https://localhost:8080/"
        },
        "id": "Tq6eHTRL1d0b",
        "outputId": "81773443-5b20-4cfe-930c-ec2a5f488606"
      },
      "execution_count": 19,
      "outputs": [
        {
          "output_type": "stream",
          "name": "stdout",
          "text": [
            "{'New': 'York', 'Saint': 'Petersburg', 'San': 'Francisco'}\n"
          ]
        }
      ]
    },
    {
      "cell_type": "markdown",
      "source": [
        "Delete a set of keys from a dictionary:\n",
        "Dict: {'name': 'Mary', 'age': '25', 'city': 'Kyiv', 'gender': 'female'}\n",
        "Keys to remove: gender, city\n"
      ],
      "metadata": {
        "id": "Zwg5vqLJ52AQ"
      }
    },
    {
      "cell_type": "code",
      "source": [
        "dict_1 = {'name': 'Mary', 'age': '25', 'city': 'Kyiv', 'gender': 'female'}\n",
        "del dict_1['city']\n",
        "del dict_1['gender']\n",
        "\n",
        "print(dict_1)"
      ],
      "metadata": {
        "colab": {
          "base_uri": "https://localhost:8080/"
        },
        "id": "Dt5zBbZj52kn",
        "outputId": "f7e7622b-3948-417b-901b-6be3e310b5e6"
      },
      "execution_count": 32,
      "outputs": [
        {
          "output_type": "stream",
          "name": "stdout",
          "text": [
            "{'name': 'Mary', 'age': '25'}\n"
          ]
        }
      ]
    }
  ]
}